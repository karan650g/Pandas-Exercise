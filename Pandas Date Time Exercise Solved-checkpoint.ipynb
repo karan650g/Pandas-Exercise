{
 "cells": [
  {
   "cell_type": "markdown",
   "metadata": {},
   "source": [
    "#### 1. Write a Python script to display the\n",
    "#### a. Current date and time\n",
    "#### b. Current year\n",
    "#### c. Month of year\n",
    "#### d. Week number of the year\n",
    "#### e. Weekday of the week\n",
    "#### f. Day of year\n",
    "#### g. Day of the month\n",
    "#### h. Day of week"
   ]
  },
  {
   "cell_type": "code",
   "execution_count": 76,
   "metadata": {},
   "outputs": [
    {
     "name": "stdout",
     "output_type": "stream",
     "text": [
      "Current date and time:  2020-01-16 23:18:34.693777\n",
      "Current year:  2020\n",
      "Month of year:  January\n",
      "Week number of the year:  02\n",
      "Weekday of the week:  4\n",
      "Day of year:  016\n",
      "Day of the month :  16\n",
      "Day of week:  Thursday\n"
     ]
    }
   ],
   "source": [
    "import time\n",
    "import datetime\n",
    "print(\"Current date and time: \" , datetime.datetime.now())\n",
    "print(\"Current year: \", datetime.date.today().strftime(\"%Y\"))\n",
    "print(\"Month of year: \", datetime.date.today().strftime(\"%B\"))\n",
    "print(\"Week number of the year: \", datetime.date.today().strftime(\"%W\"))\n",
    "print(\"Weekday of the week: \", datetime.date.today().strftime(\"%w\"))\n",
    "print(\"Day of year: \", datetime.date.today().strftime(\"%j\"))\n",
    "print(\"Day of the month : \", datetime.date.today().strftime(\"%d\"))\n",
    "print(\"Day of week: \", datetime.date.today().strftime(\"%A\"))\n"
   ]
  },
  {
   "cell_type": "markdown",
   "metadata": {},
   "source": [
    "#### 2. Write a Python program to convert a string to datetime.\n",
    "Sample String : Jan 1 2014 2:43PM \n",
    "\n",
    "Expected Output : 2014-07-01 14:43:00"
   ]
  },
  {
   "cell_type": "code",
   "execution_count": 78,
   "metadata": {},
   "outputs": [
    {
     "name": "stdout",
     "output_type": "stream",
     "text": [
      "2014-01-01 14:43:00\n"
     ]
    }
   ],
   "source": [
    "from datetime import datetime\n",
    "string = 'Jan 1 2014 2:43PM'\n",
    "date_object = datetime.strptime(string, '%b %d %Y %I:%M%p')\n",
    "print(date_object)"
   ]
  },
  {
   "cell_type": "markdown",
   "metadata": {},
   "source": [
    "#### 3. Write a Python program to subtract five days from current date.\n",
    "\n",
    "Current Date : 2015-06-22\n",
    "\n",
    "5 days before Current Date : 2015-06-17"
   ]
  },
  {
   "cell_type": "code",
   "execution_count": 82,
   "metadata": {},
   "outputs": [
    {
     "name": "stdout",
     "output_type": "stream",
     "text": [
      "Current Date : 2020-01-16\n",
      "5 days before Current Date : 2020-01-11\n"
     ]
    }
   ],
   "source": [
    "from datetime import date, timedelta\n",
    "dt = date.today() - timedelta(5)\n",
    "print('Current Date :',date.today())\n",
    "print('5 days before Current Date :',dt)"
   ]
  },
  {
   "cell_type": "markdown",
   "metadata": {},
   "source": [
    "#### 4. Write a Python program to convert unix timestamp string to readable date.\n",
    "\n",
    "Sample Unix timestamp string : 1284105682\n",
    "    \n",
    "Expected Output : 2010-09-10 13:31:22"
   ]
  },
  {
   "cell_type": "code",
   "execution_count": 81,
   "metadata": {},
   "outputs": [
    {
     "name": "stdout",
     "output_type": "stream",
     "text": [
      "2010-09-10 13:31:22\n"
     ]
    }
   ],
   "source": [
    "import datetime\n",
    "print(datetime.datetime.fromtimestamp(int(\"1284105682\")).strftime('%Y-%m-%d %H:%M:%S'))"
   ]
  },
  {
   "cell_type": "markdown",
   "metadata": {},
   "source": [
    "#### 5. Convert the below Series to pandas datetime : \n",
    "\n",
    "DoB = pd.Series([\"07Sep59\",\"01Jan55\",\"15Dec47\",\"11Jul42\"])\n",
    "\n",
    "Make sure that the year is 19XX not 20XX"
   ]
  },
  {
   "cell_type": "code",
   "execution_count": 85,
   "metadata": {},
   "outputs": [
    {
     "name": "stdout",
     "output_type": "stream",
     "text": [
      "0   1959-09-07\n",
      "1   1955-01-01\n",
      "2   1947-12-15\n",
      "3   1942-07-11\n",
      "dtype: datetime64[ns]\n"
     ]
    }
   ],
   "source": [
    "Dob = pd.to_datetime(pd.Series([\"07Sep1959\",\"01Jan1955\",\"15Dec1947\",\"11Jul1942\"]))\n",
    "print(Dob)"
   ]
  },
  {
   "cell_type": "markdown",
   "metadata": {},
   "source": [
    "#### 6. Write a Python program to get days between two dates. "
   ]
  },
  {
   "cell_type": "code",
   "execution_count": 92,
   "metadata": {},
   "outputs": [
    {
     "name": "stdout",
     "output_type": "stream",
     "text": [
      "428 days, 0:00:00\n"
     ]
    }
   ],
   "source": [
    "from datetime import datetime\n",
    "a = 'Jan 1 2014'\n",
    "b = 'Mar 5 2015'\n",
    "a = datetime.strptime(a, '%b %d %Y')\n",
    "b = datetime.strptime(b, '%b %d %Y')\n",
    "print(b-a)"
   ]
  },
  {
   "cell_type": "markdown",
   "metadata": {},
   "source": [
    "#### 7. Convert the below date to datetime and then change its display format using the .dt module\n",
    "\n",
    "Date = \"15Dec1989\"\n",
    "\n",
    "Result : \"Friday, 15 Dec 98\""
   ]
  },
  {
   "cell_type": "code",
   "execution_count": 114,
   "metadata": {},
   "outputs": [
    {
     "data": {
      "text/plain": [
       "'Friday, 15 December 1989'"
      ]
     },
     "execution_count": 114,
     "metadata": {},
     "output_type": "execute_result"
    }
   ],
   "source": [
    "from datetime import datetime\n",
    "Date = \"15Dec1989\"\n",
    "a = pd.to_datetime(Date)\n",
    "a.strftime('%A, %d %B %Y')"
   ]
  },
  {
   "cell_type": "code",
   "execution_count": null,
   "metadata": {},
   "outputs": [],
   "source": []
  }
 ],
 "metadata": {
  "kernelspec": {
   "display_name": "Python 3",
   "language": "python",
   "name": "python3"
  },
  "language_info": {
   "codemirror_mode": {
    "name": "ipython",
    "version": 3
   },
   "file_extension": ".py",
   "mimetype": "text/x-python",
   "name": "python",
   "nbconvert_exporter": "python",
   "pygments_lexer": "ipython3",
   "version": "3.7.4"
  }
 },
 "nbformat": 4,
 "nbformat_minor": 2
}
